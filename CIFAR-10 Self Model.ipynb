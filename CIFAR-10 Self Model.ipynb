{
 "cells": [
  {
   "cell_type": "markdown",
   "id": "85b6b907",
   "metadata": {},
   "source": [
    "Importing and Visualizing dataset"
   ]
  },
  {
   "cell_type": "code",
   "execution_count": 1,
   "id": "69a8b4e1",
   "metadata": {},
   "outputs": [],
   "source": [
    "import tensorflow as tf\n",
    "import matplotlib.pyplot as plt\n",
    "from tensorflow.keras.preprocessing.image import ImageDataGenerator\n",
    "#from keras.preprocessing.image import ImageDataGenerator\n"
   ]
  },
  {
   "cell_type": "code",
   "execution_count": 2,
   "id": "0699ee3a",
   "metadata": {},
   "outputs": [
    {
     "data": {
      "text/plain": [
       "'2.3.0'"
      ]
     },
     "execution_count": 2,
     "metadata": {},
     "output_type": "execute_result"
    }
   ],
   "source": [
    "tf.__version__"
   ]
  },
  {
   "cell_type": "code",
   "execution_count": 3,
   "id": "e8c8c2e9",
   "metadata": {},
   "outputs": [],
   "source": [
    "(x_train, y_train), (x_test, y_test) = tf.keras.datasets.cifar10.load_data()"
   ]
  },
  {
   "cell_type": "code",
   "execution_count": 4,
   "id": "7017a41f",
   "metadata": {},
   "outputs": [
    {
     "data": {
      "text/plain": [
       "(50000, 32, 32, 3)"
      ]
     },
     "execution_count": 4,
     "metadata": {},
     "output_type": "execute_result"
    }
   ],
   "source": [
    "x_train.shape"
   ]
  },
  {
   "cell_type": "code",
   "execution_count": 5,
   "id": "342897da",
   "metadata": {},
   "outputs": [
    {
     "name": "stdout",
     "output_type": "stream",
     "text": [
      "[1]\n"
     ]
    },
    {
     "data": {
      "image/png": "[encoded data removed]",
      "text/plain": [
       "<Figure size 432x288 with 1 Axes>"
      ]
     },
     "metadata": {
      "needs_background": "light"
     },
     "output_type": "display_data"
    }
   ],
   "source": [
    "i = 30009\n",
    "plt.imshow(x_train[i])\n",
    "print(y_train[i])"
   ]
  },
  {
   "cell_type": "markdown",
   "id": "a296e9e6",
   "metadata": {},
   "source": [
    "Data Processing\n"
   ]
  },
  {
   "cell_type": "code",
   "execution_count": 6,
   "id": "f5cd78f6",
   "metadata": {},
   "outputs": [],
   "source": [
    "x_train = x_train.astype('float32')\n",
    "x_test = x_test.astype('float32')"
   ]
  },
  {
   "cell_type": "code",
   "execution_count": 7,
   "id": "4126bd67",
   "metadata": {},
   "outputs": [],
   "source": [
    "y_train = tf.keras.utils.to_categorical(y_train, 10)"
   ]
  },
  {
   "cell_type": "code",
   "execution_count": 8,
   "id": "e7fe4c76",
   "metadata": {},
   "outputs": [],
   "source": [
    "y_test = tf.keras.utils.to_categorical(y_test, 10)"
   ]
  },
  {
   "cell_type": "code",
   "execution_count": null,
   "id": "b83f1623",
   "metadata": {},
   "outputs": [],
   "source": []
  },
  {
   "cell_type": "code",
   "execution_count": 9,
   "id": "9af954ac",
   "metadata": {},
   "outputs": [],
   "source": [
    "train_datagen = ImageDataGenerator(rescale = 1./255,\n",
    "                                   shear_range = 0.2,\n",
    "                                   zoom_range = 0.2,\n",
    "                                   horizontal_flip = True,\n",
    "                                  validation_split=0.2,)\n",
    "training_set = train_datagen.fit(x_train)"
   ]
  },
  {
   "cell_type": "code",
   "execution_count": 10,
   "id": "acf21fc0",
   "metadata": {},
   "outputs": [],
   "source": [
    "test_datagen = ImageDataGenerator(rescale = 1./255)\n",
    "test_set = test_datagen.fit(x_test)"
   ]
  },
  {
   "cell_type": "markdown",
   "id": "2cf87e69",
   "metadata": {},
   "source": [
    "Building CNN\n"
   ]
  },
  {
   "cell_type": "code",
   "execution_count": 11,
   "id": "aa31f3a5",
   "metadata": {},
   "outputs": [],
   "source": [
    "cnn = tf.keras.models.Sequential()\n",
    "cnn.add(tf.keras.layers.Conv2D(filters=64, kernel_size=3, activation='relu', input_shape=[32, 32, 3]))\n",
    "cnn.add(tf.keras.layers.Conv2D(filters=64, kernel_size=3, activation='relu'))\n",
    "cnn.add(tf.keras.layers.MaxPool2D(pool_size=2, strides=2))\n",
    "#cnn.add(tf.keras.layers.Dropout(0.4))\n",
    "\n",
    "cnn = tf.keras.models.Sequential()\n",
    "cnn.add(tf.keras.layers.Conv2D(filters=64, kernel_size=3, activation='relu'))\n",
    "cnn.add(tf.keras.layers.Conv2D(filters=64, kernel_size=3, activation='relu'))\n",
    "cnn.add(tf.keras.layers.MaxPool2D(pool_size=2, strides=2))\n",
    "#cnn.add(tf.keras.layers.Dropout(0.4))\n",
    "\n",
    "cnn.add(tf.keras.layers.Flatten())\n",
    "\n",
    "cnn.add(tf.keras.layers.Dense(units=1024, activation='relu'))\n",
    "cnn.add(tf.keras.layers.Dense(units=1024, activation='relu'))\n",
    "\n",
    "cnn.add(tf.keras.layers.Dense(units=10, activation='sigmoid'))\n"
   ]
  },
  {
   "cell_type": "code",
   "execution_count": 12,
   "id": "c1994231",
   "metadata": {},
   "outputs": [],
   "source": [
    "cnn.compile(optimizer = 'adam', loss = 'binary_crossentropy', metrics = ['accuracy'])"
   ]
  },
  {
   "cell_type": "code",
   "execution_count": 13,
   "id": "cc1a0b78",
   "metadata": {},
   "outputs": [
    {
     "name": "stdout",
     "output_type": "stream",
     "text": [
      "Epoch 1/4\n",
      "1563/1563 [==============================] - 295s 189ms/step - loss: 0.4274 - accuracy: 0.4138\n",
      "Epoch 2/4\n",
      "1563/1563 [==============================] - 278s 178ms/step - loss: 0.1910 - accuracy: 0.5809\n",
      "Epoch 3/4\n",
      "1563/1563 [==============================] - 293s 188ms/step - loss: 0.1505 - accuracy: 0.6812\n",
      "Epoch 4/4\n",
      "1563/1563 [==============================] - 291s 186ms/step - loss: 0.1102 - accuracy: 0.7807\n"
     ]
    }
   ],
   "source": [
    "#cnn.fit(x = training_set, validation_data = test_set, epochs = 1)\n",
    "history = cnn.fit(x_train, y_train, batch_size = 32, epochs = 4, shuffle = True)"
   ]
  },
  {
   "cell_type": "code",
   "execution_count": 16,
   "id": "22a5054e",
   "metadata": {},
   "outputs": [
    {
     "name": "stdout",
     "output_type": "stream",
     "text": [
      "313/313 [==============================] - 11s 34ms/step - loss: 0.2160 - accuracy: 0.5908\n",
      "Test Accuracy: 0.5907999873161316\n"
     ]
    }
   ],
   "source": [
    "evaluation = cnn.evaluate(x_test, y_test)\n",
    "print('Test Accuracy: {}'.format(evaluation[1]))"
   ]
  },
  {
   "cell_type": "code",
   "execution_count": 48,
   "id": "d47e6783",
   "metadata": {},
   "outputs": [],
   "source": [
    "import numpy as np\n",
    "from tensorflow.keras.preprocessing import image\n",
    "test_image = image.load_img('test_bird.jpg', target_size = (32, 32))\n",
    "test_image = image.img_to_array(test_image)\n",
    "test_image = np.expand_dims(test_image, axis = 0)\n",
    "result = cnn.predict(test_image)"
   ]
  },
  {
   "cell_type": "code",
   "execution_count": 49,
   "id": "abec4c70",
   "metadata": {},
   "outputs": [
    {
     "name": "stdout",
     "output_type": "stream",
     "text": [
      "Bird\n"
     ]
    }
   ],
   "source": [
    "result = result.argmax(1)\n",
    "if result == 0:\n",
    "    print('Airplane')\n",
    "if result == 1:\n",
    "    print('Automobile')\n",
    "if result == 2:\n",
    "    print('Bird')\n",
    "if result == 3:\n",
    "    print('cat')\n",
    "if result == 4:\n",
    "    print('deer')\n",
    "if result == 5:\n",
    "    print('dog')\n",
    "    \n",
    "if result == 6:\n",
    "    print('frog')\n",
    "if result == 7:\n",
    "    print('horse')\n",
    "if result == 8:\n",
    "    print('Ship')\n",
    "if result == 9:\n",
    "    print('Truck')\n"
   ]
  },
  {
   "cell_type": "code",
   "execution_count": null,
   "id": "b8d06980",
   "metadata": {},
   "outputs": [],
   "source": []
  }
 ],
 "metadata": {
  "kernelspec": {
   "display_name": "Python 3",
   "language": "python",
   "name": "python3"
  },
  "language_info": {
   "codemirror_mode": {
    "name": "ipython",
    "version": 3
   },
   "file_extension": ".py",
   "mimetype": "text/x-python",
   "name": "python",
   "nbconvert_exporter": "python",
   "pygments_lexer": "ipython3",
   "version": "3.8.8"
  }
 },
 "nbformat": 4,
 "nbformat_minor": 5
}
